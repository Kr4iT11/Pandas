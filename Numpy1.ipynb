{
 "cells": [
  {
   "cell_type": "code",
   "execution_count": 5,
   "id": "1dbe48fe",
   "metadata": {},
   "outputs": [],
   "source": [
    "import numpy as np"
   ]
  },
  {
   "cell_type": "code",
   "execution_count": 8,
   "id": "cda5d08d",
   "metadata": {},
   "outputs": [],
   "source": [
    "l = [1,2,3,\"guru\",5]"
   ]
  },
  {
   "cell_type": "code",
   "execution_count": 9,
   "id": "80306bc8",
   "metadata": {},
   "outputs": [
    {
     "data": {
      "text/plain": [
       "list"
      ]
     },
     "execution_count": 9,
     "metadata": {},
     "output_type": "execute_result"
    }
   ],
   "source": [
    "type(l)"
   ]
  },
  {
   "cell_type": "code",
   "execution_count": 11,
   "id": "542abab5",
   "metadata": {},
   "outputs": [
    {
     "data": {
      "text/plain": [
       "array(['1', '2', '3', 'guru', '5'], dtype='<U11')"
      ]
     },
     "execution_count": 11,
     "metadata": {},
     "output_type": "execute_result"
    }
   ],
   "source": [
    "np.array(l)"
   ]
  },
  {
   "cell_type": "code",
   "execution_count": 14,
   "id": "981db59a",
   "metadata": {},
   "outputs": [
    {
     "data": {
      "text/plain": [
       "numpy.ndarray"
      ]
     },
     "execution_count": 14,
     "metadata": {},
     "output_type": "execute_result"
    }
   ],
   "source": [
    "type(np.array(l))"
   ]
  },
  {
   "cell_type": "code",
   "execution_count": 15,
   "id": "e2a83596",
   "metadata": {},
   "outputs": [
    {
     "data": {
      "text/plain": [
       "array([1., 2., 3., 4., 5.])"
      ]
     },
     "execution_count": 15,
     "metadata": {},
     "output_type": "execute_result"
    }
   ],
   "source": [
    "np.array([1,2,3,4,5.0])"
   ]
  },
  {
   "cell_type": "code",
   "execution_count": 16,
   "id": "3ae9fed2",
   "metadata": {},
   "outputs": [
    {
     "data": {
      "text/plain": [
       "array([1. , 2. , 3. , 4. , 5.1])"
      ]
     },
     "execution_count": 16,
     "metadata": {},
     "output_type": "execute_result"
    }
   ],
   "source": [
    "np.array([1,2,3,4,5.1])"
   ]
  },
  {
   "cell_type": "code",
   "execution_count": 18,
   "id": "43c37c62",
   "metadata": {},
   "outputs": [
    {
     "data": {
      "text/plain": [
       "array([[1, 2],\n",
       "       [3, 4]])"
      ]
     },
     "execution_count": 18,
     "metadata": {},
     "output_type": "execute_result"
    }
   ],
   "source": [
    "np.array([[1,2],[3,4]])"
   ]
  },
  {
   "cell_type": "code",
   "execution_count": 20,
   "id": "5807e2ee",
   "metadata": {},
   "outputs": [],
   "source": [
    "a=np.array([[1,2],[3,4]])"
   ]
  },
  {
   "cell_type": "code",
   "execution_count": 21,
   "id": "f1904d0a",
   "metadata": {},
   "outputs": [
    {
     "data": {
      "text/plain": [
       "array([1, 2])"
      ]
     },
     "execution_count": 21,
     "metadata": {},
     "output_type": "execute_result"
    }
   ],
   "source": [
    "a[0]"
   ]
  },
  {
   "cell_type": "code",
   "execution_count": 22,
   "id": "1fddda3c",
   "metadata": {},
   "outputs": [
    {
     "data": {
      "text/plain": [
       "2"
      ]
     },
     "execution_count": 22,
     "metadata": {},
     "output_type": "execute_result"
    }
   ],
   "source": [
    "a[0,1]"
   ]
  },
  {
   "cell_type": "code",
   "execution_count": 25,
   "id": "3766335f",
   "metadata": {},
   "outputs": [
    {
     "data": {
      "text/plain": [
       "4"
      ]
     },
     "execution_count": 25,
     "metadata": {},
     "output_type": "execute_result"
    }
   ],
   "source": [
    "a[1,1]"
   ]
  },
  {
   "cell_type": "code",
   "execution_count": 26,
   "id": "174320e0",
   "metadata": {},
   "outputs": [
    {
     "data": {
      "text/plain": [
       "4"
      ]
     },
     "execution_count": 26,
     "metadata": {},
     "output_type": "execute_result"
    }
   ],
   "source": [
    "a[1][1]"
   ]
  },
  {
   "cell_type": "code",
   "execution_count": 27,
   "id": "8d30f3e4",
   "metadata": {},
   "outputs": [],
   "source": [
    "#Watched till 1 hour 19 mins (12 march)"
   ]
  },
  {
   "cell_type": "code",
   "execution_count": 28,
   "id": "40a60d52",
   "metadata": {},
   "outputs": [],
   "source": [
    "a2 = np.array([1,2,3,4],ndmin = 4)"
   ]
  },
  {
   "cell_type": "code",
   "execution_count": 34,
   "id": "b551b1fc",
   "metadata": {},
   "outputs": [
    {
     "data": {
      "text/plain": [
       "array([[[[1, 2, 3, 4]]]])"
      ]
     },
     "execution_count": 34,
     "metadata": {},
     "output_type": "execute_result"
    }
   ],
   "source": [
    "a2"
   ]
  },
  {
   "cell_type": "code",
   "execution_count": 35,
   "id": "99dd527f",
   "metadata": {},
   "outputs": [
    {
     "data": {
      "text/plain": [
       "2"
      ]
     },
     "execution_count": 35,
     "metadata": {},
     "output_type": "execute_result"
    }
   ],
   "source": [
    "a2[0,0,0,1]"
   ]
  },
  {
   "cell_type": "code",
   "execution_count": 36,
   "id": "bbfd4f98",
   "metadata": {},
   "outputs": [
    {
     "data": {
      "text/plain": [
       "2"
      ]
     },
     "execution_count": 36,
     "metadata": {},
     "output_type": "execute_result"
    }
   ],
   "source": [
    "a2[0][0][0][1]"
   ]
  },
  {
   "cell_type": "code",
   "execution_count": 46,
   "id": "dbc8f79d",
   "metadata": {},
   "outputs": [
    {
     "data": {
      "text/plain": [
       "4"
      ]
     },
     "execution_count": 46,
     "metadata": {},
     "output_type": "execute_result"
    }
   ],
   "source": [
    "a2[0][0][0][3]"
   ]
  },
  {
   "cell_type": "code",
   "execution_count": 50,
   "id": "d716bfcc",
   "metadata": {},
   "outputs": [],
   "source": [
    "a3 = np.array([[1,2],[3,4]])"
   ]
  },
  {
   "cell_type": "code",
   "execution_count": 51,
   "id": "1af0b0c5",
   "metadata": {},
   "outputs": [
    {
     "data": {
      "text/plain": [
       "array([[1, 2],\n",
       "       [3, 4]])"
      ]
     },
     "execution_count": 51,
     "metadata": {},
     "output_type": "execute_result"
    }
   ],
   "source": [
    "a3"
   ]
  },
  {
   "cell_type": "code",
   "execution_count": 52,
   "id": "0f558f6f",
   "metadata": {},
   "outputs": [
    {
     "data": {
      "text/plain": [
       "2"
      ]
     },
     "execution_count": 52,
     "metadata": {},
     "output_type": "execute_result"
    }
   ],
   "source": [
    "a3[0,1]"
   ]
  },
  {
   "cell_type": "code",
   "execution_count": 53,
   "id": "da575e8b",
   "metadata": {},
   "outputs": [
    {
     "data": {
      "text/plain": [
       "1"
      ]
     },
     "execution_count": 53,
     "metadata": {},
     "output_type": "execute_result"
    }
   ],
   "source": [
    "a3[0,0]"
   ]
  },
  {
   "cell_type": "code",
   "execution_count": 56,
   "id": "710533a3",
   "metadata": {},
   "outputs": [
    {
     "data": {
      "text/plain": [
       "2"
      ]
     },
     "execution_count": 56,
     "metadata": {},
     "output_type": "execute_result"
    }
   ],
   "source": [
    "a3[0,1]"
   ]
  },
  {
   "cell_type": "code",
   "execution_count": 57,
   "id": "35a254e9",
   "metadata": {},
   "outputs": [
    {
     "data": {
      "text/plain": [
       "3"
      ]
     },
     "execution_count": 57,
     "metadata": {},
     "output_type": "execute_result"
    }
   ],
   "source": [
    "a3[1,0]"
   ]
  },
  {
   "cell_type": "code",
   "execution_count": 58,
   "id": "2c7f5e1f",
   "metadata": {},
   "outputs": [
    {
     "data": {
      "text/plain": [
       "4"
      ]
     },
     "execution_count": 58,
     "metadata": {},
     "output_type": "execute_result"
    }
   ],
   "source": [
    "a3[1,1]"
   ]
  },
  {
   "cell_type": "code",
   "execution_count": 59,
   "id": "cd4936ba",
   "metadata": {},
   "outputs": [
    {
     "data": {
      "text/plain": [
       "array([1, 2, 3, 4, 5])"
      ]
     },
     "execution_count": 59,
     "metadata": {},
     "output_type": "execute_result"
    }
   ],
   "source": [
    "np.asanyarray([1,2,3,4,5])"
   ]
  },
  {
   "cell_type": "code",
   "execution_count": 60,
   "id": "ff4a8498",
   "metadata": {},
   "outputs": [
    {
     "data": {
      "text/plain": [
       "array(['1', '2', '3', '4', '5', 'Gur'], dtype='<U11')"
      ]
     },
     "execution_count": 60,
     "metadata": {},
     "output_type": "execute_result"
    }
   ],
   "source": [
    "np.asanyarray([1,2,3,4,5,'Gur'])"
   ]
  },
  {
   "cell_type": "code",
   "execution_count": 62,
   "id": "6fd41b73",
   "metadata": {},
   "outputs": [],
   "source": [
    "mat = np.mat([1,2,3])"
   ]
  },
  {
   "cell_type": "code",
   "execution_count": 63,
   "id": "60e86073",
   "metadata": {},
   "outputs": [
    {
     "data": {
      "text/plain": [
       "1"
      ]
     },
     "execution_count": 63,
     "metadata": {},
     "output_type": "execute_result"
    }
   ],
   "source": [
    "mat[0,0]"
   ]
  },
  {
   "cell_type": "code",
   "execution_count": 72,
   "id": "762f6053",
   "metadata": {},
   "outputs": [
    {
     "data": {
      "text/plain": [
       "2"
      ]
     },
     "execution_count": 72,
     "metadata": {},
     "output_type": "execute_result"
    }
   ],
   "source": [
    "mat[0,1]"
   ]
  },
  {
   "cell_type": "code",
   "execution_count": 78,
   "id": "6b432b18",
   "metadata": {},
   "outputs": [],
   "source": [
    "mt = np.mat([1,2,3,4,5])"
   ]
  },
  {
   "cell_type": "code",
   "execution_count": 84,
   "id": "da2bfc4b",
   "metadata": {},
   "outputs": [
    {
     "data": {
      "text/plain": [
       "2"
      ]
     },
     "execution_count": 84,
     "metadata": {},
     "output_type": "execute_result"
    }
   ],
   "source": [
    "mt[0,1]"
   ]
  },
  {
   "cell_type": "code",
   "execution_count": 85,
   "id": "82173129",
   "metadata": {},
   "outputs": [
    {
     "data": {
      "text/plain": [
       "1"
      ]
     },
     "execution_count": 85,
     "metadata": {},
     "output_type": "execute_result"
    }
   ],
   "source": [
    "mt[0,0]"
   ]
  },
  {
   "cell_type": "code",
   "execution_count": 86,
   "id": "bcdbbe12",
   "metadata": {},
   "outputs": [],
   "source": [
    "arr = np.array([1,2,3,4])"
   ]
  },
  {
   "cell_type": "code",
   "execution_count": 88,
   "id": "5c96cb1b",
   "metadata": {},
   "outputs": [
    {
     "data": {
      "text/plain": [
       "2"
      ]
     },
     "execution_count": 88,
     "metadata": {},
     "output_type": "execute_result"
    }
   ],
   "source": [
    "arr[1]"
   ]
  },
  {
   "cell_type": "code",
   "execution_count": 89,
   "id": "722219d1",
   "metadata": {},
   "outputs": [],
   "source": [
    "a = [1,2,3,4,5]"
   ]
  },
  {
   "cell_type": "code",
   "execution_count": 90,
   "id": "da63ba17",
   "metadata": {},
   "outputs": [
    {
     "data": {
      "text/plain": [
       "array([1, 2, 3, 4, 5])"
      ]
     },
     "execution_count": 90,
     "metadata": {},
     "output_type": "execute_result"
    }
   ],
   "source": [
    "np.asarray(a)"
   ]
  },
  {
   "cell_type": "code",
   "execution_count": 91,
   "id": "925595b3",
   "metadata": {},
   "outputs": [
    {
     "data": {
      "text/plain": [
       "matrix([[1, 2, 3, 4, 5]])"
      ]
     },
     "execution_count": 91,
     "metadata": {},
     "output_type": "execute_result"
    }
   ],
   "source": [
    "np.mat(a)"
   ]
  },
  {
   "cell_type": "code",
   "execution_count": 92,
   "id": "9b93712c",
   "metadata": {},
   "outputs": [
    {
     "data": {
      "text/plain": [
       "array([1, 2, 3, 4, 5])"
      ]
     },
     "execution_count": 92,
     "metadata": {},
     "output_type": "execute_result"
    }
   ],
   "source": [
    "np.asanyarray(a)"
   ]
  },
  {
   "cell_type": "code",
   "execution_count": 93,
   "id": "ac0ecc69",
   "metadata": {},
   "outputs": [
    {
     "data": {
      "text/plain": [
       "matrix([[1, 2, 3, 4, 5]])"
      ]
     },
     "execution_count": 93,
     "metadata": {},
     "output_type": "execute_result"
    }
   ],
   "source": [
    "np.asanyarray(np.mat(a))"
   ]
  },
  {
   "cell_type": "code",
   "execution_count": 94,
   "id": "2edde46d",
   "metadata": {},
   "outputs": [
    {
     "data": {
      "text/plain": [
       "[1, 2, 3, 4, 5]"
      ]
     },
     "execution_count": 94,
     "metadata": {},
     "output_type": "execute_result"
    }
   ],
   "source": [
    "a"
   ]
  },
  {
   "cell_type": "code",
   "execution_count": 95,
   "id": "7caef384",
   "metadata": {},
   "outputs": [
    {
     "data": {
      "text/plain": [
       "array([[ True, False, False],\n",
       "       [False,  True, False],\n",
       "       [False, False,  True]])"
      ]
     },
     "execution_count": 95,
     "metadata": {},
     "output_type": "execute_result"
    }
   ],
   "source": [
    "np.fromfunction(lambda i, j : i == j,(3,3))"
   ]
  },
  {
   "cell_type": "code",
   "execution_count": 96,
   "id": "238fce3f",
   "metadata": {},
   "outputs": [
    {
     "data": {
      "text/plain": [
       "array([[ True, False, False],\n",
       "       [False,  True, False]])"
      ]
     },
     "execution_count": 96,
     "metadata": {},
     "output_type": "execute_result"
    }
   ],
   "source": [
    "np.fromfunction(lambda i, j : i == j,(2,3))"
   ]
  },
  {
   "cell_type": "code",
   "execution_count": 98,
   "id": "70618481",
   "metadata": {},
   "outputs": [
    {
     "data": {
      "text/plain": [
       "array([[ True, False],\n",
       "       [False,  True]])"
      ]
     },
     "execution_count": 98,
     "metadata": {},
     "output_type": "execute_result"
    }
   ],
   "source": [
    "np.fromfunction(lambda i, j : i == j,(2,2))"
   ]
  },
  {
   "cell_type": "code",
   "execution_count": 99,
   "id": "13fa6113",
   "metadata": {},
   "outputs": [
    {
     "data": {
      "text/plain": [
       "array([[ True, False, False],\n",
       "       [False,  True, False],\n",
       "       [False, False,  True]])"
      ]
     },
     "execution_count": 99,
     "metadata": {},
     "output_type": "execute_result"
    }
   ],
   "source": [
    "np.fromfunction(lambda i, j : i == j,(3,3))"
   ]
  },
  {
   "cell_type": "code",
   "execution_count": 100,
   "id": "1bd113ce",
   "metadata": {},
   "outputs": [
    {
     "data": {
      "text/plain": [
       "array([[0., 0., 0., 0.],\n",
       "       [0., 1., 2., 3.],\n",
       "       [0., 2., 4., 6.],\n",
       "       [0., 3., 6., 9.]])"
      ]
     },
     "execution_count": 100,
     "metadata": {},
     "output_type": "execute_result"
    }
   ],
   "source": [
    "np.fromfunction(lambda i, j : i*j,(4,4))"
   ]
  },
  {
   "cell_type": "code",
   "execution_count": 103,
   "id": "61717203",
   "metadata": {},
   "outputs": [
    {
     "data": {
      "text/plain": [
       "array([[0, 0, 0, 0],\n",
       "       [0, 1, 2, 3],\n",
       "       [0, 2, 4, 6],\n",
       "       [0, 3, 6, 9]])"
      ]
     },
     "execution_count": 103,
     "metadata": {},
     "output_type": "execute_result"
    }
   ],
   "source": [
    "np.fromfunction(lambda i, j : i*j,(4,4),dtype=int)"
   ]
  },
  {
   "cell_type": "code",
   "execution_count": 104,
   "id": "a4001430",
   "metadata": {},
   "outputs": [
    {
     "data": {
      "text/plain": [
       "matrix([[0, 0, 0, 0],\n",
       "        [0, 1, 2, 3],\n",
       "        [0, 2, 4, 6],\n",
       "        [0, 3, 6, 9]])"
      ]
     },
     "execution_count": 104,
     "metadata": {},
     "output_type": "execute_result"
    }
   ],
   "source": [
    "np.mat(np.fromfunction(lambda i, j : i*j,(4,4),dtype=int))"
   ]
  },
  {
   "cell_type": "code",
   "execution_count": 107,
   "id": "e3247f38",
   "metadata": {},
   "outputs": [
    {
     "ename": "ValueError",
     "evalue": "shape too large to be a matrix.",
     "output_type": "error",
     "traceback": [
      "\u001b[1;31m---------------------------------------------------------------------------\u001b[0m",
      "\u001b[1;31mValueError\u001b[0m                                Traceback (most recent call last)",
      "\u001b[1;32m~\\AppData\\Local\\Temp\\ipykernel_12356\\1255178132.py\u001b[0m in \u001b[0;36m<module>\u001b[1;34m\u001b[0m\n\u001b[1;32m----> 1\u001b[1;33m \u001b[0mnp\u001b[0m\u001b[1;33m.\u001b[0m\u001b[0mmat\u001b[0m\u001b[1;33m(\u001b[0m\u001b[0mnp\u001b[0m\u001b[1;33m.\u001b[0m\u001b[0mfromfunction\u001b[0m\u001b[1;33m(\u001b[0m\u001b[1;32mlambda\u001b[0m \u001b[0mi\u001b[0m\u001b[1;33m,\u001b[0m \u001b[0mj\u001b[0m\u001b[1;33m,\u001b[0m \u001b[0mz\u001b[0m \u001b[1;33m:\u001b[0m \u001b[0mi\u001b[0m\u001b[1;33m*\u001b[0m\u001b[0mj\u001b[0m\u001b[1;33m*\u001b[0m\u001b[0mz\u001b[0m\u001b[1;33m,\u001b[0m\u001b[1;33m(\u001b[0m\u001b[1;36m3\u001b[0m\u001b[1;33m,\u001b[0m\u001b[1;36m3\u001b[0m\u001b[1;33m,\u001b[0m\u001b[1;36m3\u001b[0m\u001b[1;33m)\u001b[0m\u001b[1;33m,\u001b[0m\u001b[0mdtype\u001b[0m\u001b[1;33m=\u001b[0m\u001b[0mint\u001b[0m\u001b[1;33m)\u001b[0m\u001b[1;33m)\u001b[0m\u001b[1;33m\u001b[0m\u001b[1;33m\u001b[0m\u001b[0m\n\u001b[0m",
      "\u001b[1;32mC:\\ProgramData\\Anaconda3\\lib\\site-packages\\numpy\\matrixlib\\defmatrix.py\u001b[0m in \u001b[0;36masmatrix\u001b[1;34m(data, dtype)\u001b[0m\n\u001b[0;32m     67\u001b[0m \u001b[1;33m\u001b[0m\u001b[0m\n\u001b[0;32m     68\u001b[0m     \"\"\"\n\u001b[1;32m---> 69\u001b[1;33m     \u001b[1;32mreturn\u001b[0m \u001b[0mmatrix\u001b[0m\u001b[1;33m(\u001b[0m\u001b[0mdata\u001b[0m\u001b[1;33m,\u001b[0m \u001b[0mdtype\u001b[0m\u001b[1;33m=\u001b[0m\u001b[0mdtype\u001b[0m\u001b[1;33m,\u001b[0m \u001b[0mcopy\u001b[0m\u001b[1;33m=\u001b[0m\u001b[1;32mFalse\u001b[0m\u001b[1;33m)\u001b[0m\u001b[1;33m\u001b[0m\u001b[1;33m\u001b[0m\u001b[0m\n\u001b[0m\u001b[0;32m     70\u001b[0m \u001b[1;33m\u001b[0m\u001b[0m\n\u001b[0;32m     71\u001b[0m \u001b[1;33m\u001b[0m\u001b[0m\n",
      "\u001b[1;32mC:\\ProgramData\\Anaconda3\\lib\\site-packages\\numpy\\matrixlib\\defmatrix.py\u001b[0m in \u001b[0;36m__new__\u001b[1;34m(subtype, data, dtype, copy)\u001b[0m\n\u001b[0;32m    133\u001b[0m             \u001b[1;32melse\u001b[0m\u001b[1;33m:\u001b[0m\u001b[1;33m\u001b[0m\u001b[1;33m\u001b[0m\u001b[0m\n\u001b[0;32m    134\u001b[0m                 \u001b[0mintype\u001b[0m \u001b[1;33m=\u001b[0m \u001b[0mN\u001b[0m\u001b[1;33m.\u001b[0m\u001b[0mdtype\u001b[0m\u001b[1;33m(\u001b[0m\u001b[0mdtype\u001b[0m\u001b[1;33m)\u001b[0m\u001b[1;33m\u001b[0m\u001b[1;33m\u001b[0m\u001b[0m\n\u001b[1;32m--> 135\u001b[1;33m             \u001b[0mnew\u001b[0m \u001b[1;33m=\u001b[0m \u001b[0mdata\u001b[0m\u001b[1;33m.\u001b[0m\u001b[0mview\u001b[0m\u001b[1;33m(\u001b[0m\u001b[0msubtype\u001b[0m\u001b[1;33m)\u001b[0m\u001b[1;33m\u001b[0m\u001b[1;33m\u001b[0m\u001b[0m\n\u001b[0m\u001b[0;32m    136\u001b[0m             \u001b[1;32mif\u001b[0m \u001b[0mintype\u001b[0m \u001b[1;33m!=\u001b[0m \u001b[0mdata\u001b[0m\u001b[1;33m.\u001b[0m\u001b[0mdtype\u001b[0m\u001b[1;33m:\u001b[0m\u001b[1;33m\u001b[0m\u001b[1;33m\u001b[0m\u001b[0m\n\u001b[0;32m    137\u001b[0m                 \u001b[1;32mreturn\u001b[0m \u001b[0mnew\u001b[0m\u001b[1;33m.\u001b[0m\u001b[0mastype\u001b[0m\u001b[1;33m(\u001b[0m\u001b[0mintype\u001b[0m\u001b[1;33m)\u001b[0m\u001b[1;33m\u001b[0m\u001b[1;33m\u001b[0m\u001b[0m\n",
      "\u001b[1;32mC:\\ProgramData\\Anaconda3\\lib\\site-packages\\numpy\\matrixlib\\defmatrix.py\u001b[0m in \u001b[0;36m__array_finalize__\u001b[1;34m(self, obj)\u001b[0m\n\u001b[0;32m    178\u001b[0m                 \u001b[1;32mreturn\u001b[0m\u001b[1;33m\u001b[0m\u001b[1;33m\u001b[0m\u001b[0m\n\u001b[0;32m    179\u001b[0m             \u001b[1;32melif\u001b[0m \u001b[1;33m(\u001b[0m\u001b[0mndim\u001b[0m \u001b[1;33m>\u001b[0m \u001b[1;36m2\u001b[0m\u001b[1;33m)\u001b[0m\u001b[1;33m:\u001b[0m\u001b[1;33m\u001b[0m\u001b[1;33m\u001b[0m\u001b[0m\n\u001b[1;32m--> 180\u001b[1;33m                 \u001b[1;32mraise\u001b[0m \u001b[0mValueError\u001b[0m\u001b[1;33m(\u001b[0m\u001b[1;34m\"shape too large to be a matrix.\"\u001b[0m\u001b[1;33m)\u001b[0m\u001b[1;33m\u001b[0m\u001b[1;33m\u001b[0m\u001b[0m\n\u001b[0m\u001b[0;32m    181\u001b[0m         \u001b[1;32melse\u001b[0m\u001b[1;33m:\u001b[0m\u001b[1;33m\u001b[0m\u001b[1;33m\u001b[0m\u001b[0m\n\u001b[0;32m    182\u001b[0m             \u001b[0mnewshape\u001b[0m \u001b[1;33m=\u001b[0m \u001b[0mself\u001b[0m\u001b[1;33m.\u001b[0m\u001b[0mshape\u001b[0m\u001b[1;33m\u001b[0m\u001b[1;33m\u001b[0m\u001b[0m\n",
      "\u001b[1;31mValueError\u001b[0m: shape too large to be a matrix."
     ]
    }
   ],
   "source": [
    "np.mat(np.fromfunction(lambda i, j, z : i*j*z,(3,3,3),dtype=int))"
   ]
  },
  {
   "cell_type": "code",
   "execution_count": 108,
   "id": "8f097913",
   "metadata": {},
   "outputs": [
    {
     "data": {
      "text/plain": [
       "array([[[0, 0, 0],\n",
       "        [0, 0, 0],\n",
       "        [0, 0, 0]],\n",
       "\n",
       "       [[0, 0, 0],\n",
       "        [0, 1, 2],\n",
       "        [0, 2, 4]],\n",
       "\n",
       "       [[0, 0, 0],\n",
       "        [0, 2, 4],\n",
       "        [0, 4, 8]]])"
      ]
     },
     "execution_count": 108,
     "metadata": {},
     "output_type": "execute_result"
    }
   ],
   "source": [
    "np.fromfunction(lambda i, j, z : i*j*z,(3,3,3),dtype=int)"
   ]
  },
  {
   "cell_type": "code",
   "execution_count": 109,
   "id": "e203e330",
   "metadata": {},
   "outputs": [
    {
     "data": {
      "text/plain": [
       "array([[[0, 0],\n",
       "        [0, 0],\n",
       "        [0, 0]],\n",
       "\n",
       "       [[0, 0],\n",
       "        [0, 1],\n",
       "        [0, 2]],\n",
       "\n",
       "       [[0, 0],\n",
       "        [0, 2],\n",
       "        [0, 4]]])"
      ]
     },
     "execution_count": 109,
     "metadata": {},
     "output_type": "execute_result"
    }
   ],
   "source": [
    "np.fromfunction(lambda i, j, z : i*j*z,(3,3,2),dtype=int)"
   ]
  },
  {
   "cell_type": "code",
   "execution_count": 113,
   "id": "3bdae1b7",
   "metadata": {},
   "outputs": [
    {
     "data": {
      "text/plain": [
       "array([[[0, 0],\n",
       "        [0, 0],\n",
       "        [0, 0]],\n",
       "\n",
       "       [[0, 0],\n",
       "        [0, 1],\n",
       "        [0, 2]],\n",
       "\n",
       "       [[0, 0],\n",
       "        [0, 2],\n",
       "        [0, 4]],\n",
       "\n",
       "       [[0, 0],\n",
       "        [0, 3],\n",
       "        [0, 6]]])"
      ]
     },
     "execution_count": 113,
     "metadata": {},
     "output_type": "execute_result"
    }
   ],
   "source": [
    "np.fromfunction(lambda i, j, z : i*j*z,(4,3,2),dtype=int)"
   ]
  },
  {
   "cell_type": "code",
   "execution_count": 114,
   "id": "7263aeda",
   "metadata": {},
   "outputs": [
    {
     "data": {
      "text/plain": [
       "array([[[[0, 0],\n",
       "         [0, 0]],\n",
       "\n",
       "        [[0, 0],\n",
       "         [0, 0]],\n",
       "\n",
       "        [[0, 0],\n",
       "         [0, 0]]],\n",
       "\n",
       "\n",
       "       [[[0, 0],\n",
       "         [0, 0]],\n",
       "\n",
       "        [[0, 0],\n",
       "         [0, 1]],\n",
       "\n",
       "        [[0, 0],\n",
       "         [0, 2]]],\n",
       "\n",
       "\n",
       "       [[[0, 0],\n",
       "         [0, 0]],\n",
       "\n",
       "        [[0, 0],\n",
       "         [0, 2]],\n",
       "\n",
       "        [[0, 0],\n",
       "         [0, 4]]],\n",
       "\n",
       "\n",
       "       [[[0, 0],\n",
       "         [0, 0]],\n",
       "\n",
       "        [[0, 0],\n",
       "         [0, 3]],\n",
       "\n",
       "        [[0, 0],\n",
       "         [0, 6]]]])"
      ]
     },
     "execution_count": 114,
     "metadata": {},
     "output_type": "execute_result"
    }
   ],
   "source": [
    "np.fromfunction(lambda i, j, z, p : i*j*z*p,(4,3,2,2),dtype=int)"
   ]
  },
  {
   "cell_type": "code",
   "execution_count": 116,
   "id": "d39fb35e",
   "metadata": {},
   "outputs": [],
   "source": [
    "a = np.fromfunction(lambda i, j, z, p : i*j*z*p,(4,3,2,2),dtype=int)"
   ]
  },
  {
   "cell_type": "code",
   "execution_count": 117,
   "id": "d5138688",
   "metadata": {},
   "outputs": [
    {
     "data": {
      "text/plain": [
       "4"
      ]
     },
     "execution_count": 117,
     "metadata": {},
     "output_type": "execute_result"
    }
   ],
   "source": [
    "a.ndim"
   ]
  },
  {
   "cell_type": "code",
   "execution_count": 118,
   "id": "b84b85bf",
   "metadata": {},
   "outputs": [
    {
     "data": {
      "text/plain": [
       "48"
      ]
     },
     "execution_count": 118,
     "metadata": {},
     "output_type": "execute_result"
    }
   ],
   "source": [
    "a.size"
   ]
  },
  {
   "cell_type": "code",
   "execution_count": 119,
   "id": "25fa4aeb",
   "metadata": {},
   "outputs": [
    {
     "data": {
      "text/plain": [
       "(4, 3, 2, 2)"
      ]
     },
     "execution_count": 119,
     "metadata": {},
     "output_type": "execute_result"
    }
   ],
   "source": [
    "a.shape"
   ]
  },
  {
   "cell_type": "code",
   "execution_count": 120,
   "id": "aecc8b42",
   "metadata": {},
   "outputs": [
    {
     "data": {
      "text/plain": [
       "dtype('int32')"
      ]
     },
     "execution_count": 120,
     "metadata": {},
     "output_type": "execute_result"
    }
   ],
   "source": [
    "a.dtype"
   ]
  },
  {
   "cell_type": "code",
   "execution_count": 121,
   "id": "5c7d17a8",
   "metadata": {},
   "outputs": [
    {
     "data": {
      "text/plain": [
       "array([[[[0, 0],\n",
       "         [0, 0]],\n",
       "\n",
       "        [[0, 0],\n",
       "         [0, 0]],\n",
       "\n",
       "        [[0, 0],\n",
       "         [0, 0]]],\n",
       "\n",
       "\n",
       "       [[[0, 0],\n",
       "         [0, 0]],\n",
       "\n",
       "        [[0, 0],\n",
       "         [0, 1]],\n",
       "\n",
       "        [[0, 0],\n",
       "         [0, 2]]],\n",
       "\n",
       "\n",
       "       [[[0, 0],\n",
       "         [0, 0]],\n",
       "\n",
       "        [[0, 0],\n",
       "         [0, 2]],\n",
       "\n",
       "        [[0, 0],\n",
       "         [0, 4]]],\n",
       "\n",
       "\n",
       "       [[[0, 0],\n",
       "         [0, 0]],\n",
       "\n",
       "        [[0, 0],\n",
       "         [0, 3]],\n",
       "\n",
       "        [[0, 0],\n",
       "         [0, 6]]]])"
      ]
     },
     "execution_count": 121,
     "metadata": {},
     "output_type": "execute_result"
    }
   ],
   "source": [
    "a"
   ]
  },
  {
   "cell_type": "code",
   "execution_count": 6,
   "id": "9adab1e6",
   "metadata": {},
   "outputs": [],
   "source": [
    "import pandas as pd "
   ]
  },
  {
   "cell_type": "code",
   "execution_count": 125,
   "id": "0a725635",
   "metadata": {},
   "outputs": [],
   "source": [
    "a = np.fromfunction(lambda i, j : i*j,(4,3),dtype=int)"
   ]
  },
  {
   "cell_type": "code",
   "execution_count": 126,
   "id": "77163ed6",
   "metadata": {},
   "outputs": [
    {
     "data": {
      "text/plain": [
       "array([[0, 0, 0],\n",
       "       [0, 1, 2],\n",
       "       [0, 2, 4],\n",
       "       [0, 3, 6]])"
      ]
     },
     "execution_count": 126,
     "metadata": {},
     "output_type": "execute_result"
    }
   ],
   "source": [
    "a"
   ]
  },
  {
   "cell_type": "code",
   "execution_count": 127,
   "id": "a76bd30f",
   "metadata": {},
   "outputs": [
    {
     "data": {
      "text/html": [
       "<div>\n",
       "<style scoped>\n",
       "    .dataframe tbody tr th:only-of-type {\n",
       "        vertical-align: middle;\n",
       "    }\n",
       "\n",
       "    .dataframe tbody tr th {\n",
       "        vertical-align: top;\n",
       "    }\n",
       "\n",
       "    .dataframe thead th {\n",
       "        text-align: right;\n",
       "    }\n",
       "</style>\n",
       "<table border=\"1\" class=\"dataframe\">\n",
       "  <thead>\n",
       "    <tr style=\"text-align: right;\">\n",
       "      <th></th>\n",
       "      <th>0</th>\n",
       "      <th>1</th>\n",
       "      <th>2</th>\n",
       "    </tr>\n",
       "  </thead>\n",
       "  <tbody>\n",
       "    <tr>\n",
       "      <th>0</th>\n",
       "      <td>0</td>\n",
       "      <td>0</td>\n",
       "      <td>0</td>\n",
       "    </tr>\n",
       "    <tr>\n",
       "      <th>1</th>\n",
       "      <td>0</td>\n",
       "      <td>1</td>\n",
       "      <td>2</td>\n",
       "    </tr>\n",
       "    <tr>\n",
       "      <th>2</th>\n",
       "      <td>0</td>\n",
       "      <td>2</td>\n",
       "      <td>4</td>\n",
       "    </tr>\n",
       "    <tr>\n",
       "      <th>3</th>\n",
       "      <td>0</td>\n",
       "      <td>3</td>\n",
       "      <td>6</td>\n",
       "    </tr>\n",
       "  </tbody>\n",
       "</table>\n",
       "</div>"
      ],
      "text/plain": [
       "   0  1  2\n",
       "0  0  0  0\n",
       "1  0  1  2\n",
       "2  0  2  4\n",
       "3  0  3  6"
      ]
     },
     "execution_count": 127,
     "metadata": {},
     "output_type": "execute_result"
    }
   ],
   "source": [
    "pd.DataFrame(a)"
   ]
  },
  {
   "cell_type": "code",
   "execution_count": 128,
   "id": "fa2d511f",
   "metadata": {},
   "outputs": [
    {
     "data": {
      "text/plain": [
       "array([[0, 0, 0],\n",
       "       [0, 1, 2],\n",
       "       [0, 2, 4],\n",
       "       [0, 3, 6]])"
      ]
     },
     "execution_count": 128,
     "metadata": {},
     "output_type": "execute_result"
    }
   ],
   "source": [
    "a"
   ]
  },
  {
   "cell_type": "code",
   "execution_count": 129,
   "id": "f60d065c",
   "metadata": {},
   "outputs": [
    {
     "data": {
      "text/plain": [
       "0.2706377636351034"
      ]
     },
     "execution_count": 129,
     "metadata": {},
     "output_type": "execute_result"
    }
   ],
   "source": [
    "np.random.rand()"
   ]
  },
  {
   "cell_type": "code",
   "execution_count": 131,
   "id": "15a2ab09",
   "metadata": {},
   "outputs": [
    {
     "data": {
      "text/plain": [
       "array([[0.47621968, 0.8168029 , 0.76059228, 0.32872136],\n",
       "       [0.31097312, 0.79753488, 0.12878815, 0.33558925],\n",
       "       [0.42571863, 0.30515552, 0.57588466, 0.01838942],\n",
       "       [0.30758383, 0.13124518, 0.86092476, 0.54051224],\n",
       "       [0.21040928, 0.1877024 , 0.57587585, 0.70728097],\n",
       "       [0.20515434, 0.25878378, 0.90061698, 0.2803746 ],\n",
       "       [0.82195868, 0.13946478, 0.62552122, 0.18692599],\n",
       "       [0.2467997 , 0.87303193, 0.65816981, 0.0676803 ],\n",
       "       [0.80289743, 0.64972886, 0.31759746, 0.7185243 ],\n",
       "       [0.1772142 , 0.77816632, 0.03679165, 0.47148557],\n",
       "       [0.92138589, 0.75344897, 0.62858158, 0.49507145],\n",
       "       [0.99644619, 0.18284388, 0.7110825 , 0.73386422],\n",
       "       [0.77307006, 0.33011283, 0.05916489, 0.36962036],\n",
       "       [0.63848974, 0.92584338, 0.44239501, 0.44845979],\n",
       "       [0.94781225, 0.90114086, 0.28902968, 0.17140913],\n",
       "       [0.80954122, 0.08968678, 0.89279652, 0.51313077],\n",
       "       [0.64520964, 0.68629735, 0.1984798 , 0.40492083],\n",
       "       [0.73222167, 0.49477398, 0.04909715, 0.09709812],\n",
       "       [0.82381567, 0.00580927, 0.49660004, 0.60833579],\n",
       "       [0.92997665, 0.67459748, 0.74471147, 0.72153444],\n",
       "       [0.46806242, 0.18797663, 0.84449364, 0.95701539],\n",
       "       [0.37255766, 0.03542764, 0.27450036, 0.37933522],\n",
       "       [0.98835702, 0.12722441, 0.05546041, 0.27605044],\n",
       "       [0.91848148, 0.94462984, 0.3496023 , 0.52244701],\n",
       "       [0.73982372, 0.01522265, 0.82285064, 0.58270078],\n",
       "       [0.17316169, 0.76363766, 0.82505987, 0.31101108],\n",
       "       [0.96349402, 0.376927  , 0.1453494 , 0.12405289],\n",
       "       [0.08116975, 0.15497967, 0.25786715, 0.58820452],\n",
       "       [0.61456144, 0.03178537, 0.7821011 , 0.08409304],\n",
       "       [0.7001797 , 0.85106138, 0.77297133, 0.83546013],\n",
       "       [0.53886291, 0.12823697, 0.02731081, 0.34713489],\n",
       "       [0.65072015, 0.04319447, 0.14911697, 0.03537358],\n",
       "       [0.60055016, 0.63342784, 0.34627323, 0.66116638],\n",
       "       [0.01612018, 0.91402003, 0.36583893, 0.76644369],\n",
       "       [0.41668296, 0.99298771, 0.07811088, 0.20604527],\n",
       "       [0.39599882, 0.93415627, 0.09211172, 0.84060869],\n",
       "       [0.45111332, 0.89979354, 0.49635326, 0.48014997],\n",
       "       [0.75804622, 0.1156345 , 0.49798784, 0.1571445 ],\n",
       "       [0.38854138, 0.12987139, 0.75430049, 0.81681928],\n",
       "       [0.97987189, 0.42639479, 0.48740618, 0.13614698],\n",
       "       [0.01585838, 0.80516191, 0.45455238, 0.79478609],\n",
       "       [0.6781134 , 0.47649388, 0.27154121, 0.70985736],\n",
       "       [0.44970554, 0.71431954, 0.77763533, 0.03601263],\n",
       "       [0.93531935, 0.42563459, 0.24793239, 0.11981743],\n",
       "       [0.35616492, 0.57251098, 0.26335701, 0.0564402 ],\n",
       "       [0.07878377, 0.02288775, 0.9224167 , 0.28357699],\n",
       "       [0.54115042, 0.37914454, 0.9518666 , 0.72478203],\n",
       "       [0.69344912, 0.43123717, 0.71586364, 0.77903781],\n",
       "       [0.39366016, 0.83752235, 0.57876605, 0.18121441],\n",
       "       [0.99146788, 0.48151748, 0.27609772, 0.318285  ],\n",
       "       [0.10115617, 0.06899393, 0.66077968, 0.60556222],\n",
       "       [0.65887007, 0.768486  , 0.78464982, 0.78889898],\n",
       "       [0.04160656, 0.12214594, 0.30993172, 0.0649698 ],\n",
       "       [0.19608922, 0.15306392, 0.73770968, 0.40959415],\n",
       "       [0.56718824, 0.85479004, 0.59807883, 0.54774168],\n",
       "       [0.73950156, 0.73166635, 0.68668233, 0.86147723],\n",
       "       [0.44548773, 0.41520889, 0.52049766, 0.58948179],\n",
       "       [0.53704397, 0.70994898, 0.44087935, 0.98792999],\n",
       "       [0.2823547 , 0.90991507, 0.18666613, 0.17463386],\n",
       "       [0.03590859, 0.87577232, 0.2027844 , 0.12414689],\n",
       "       [0.52267403, 0.299695  , 0.27244658, 0.5507249 ],\n",
       "       [0.2171579 , 0.85030627, 0.71909164, 0.04681166],\n",
       "       [0.7864298 , 0.10759093, 0.35364298, 0.59703853],\n",
       "       [0.91505568, 0.90626855, 0.52893046, 0.93511207],\n",
       "       [0.48184159, 0.03395293, 0.3578036 , 0.45569136],\n",
       "       [0.33297238, 0.42390585, 0.20440055, 0.73106757],\n",
       "       [0.94299407, 0.0052746 , 0.96959998, 0.13172251],\n",
       "       [0.0736394 , 0.52784528, 0.46481708, 0.01776432],\n",
       "       [0.51898809, 0.30552538, 0.84208101, 0.69589992],\n",
       "       [0.11731144, 0.52264363, 0.23474816, 0.97941785],\n",
       "       [0.66774417, 0.94621713, 0.67940336, 0.56788416],\n",
       "       [0.08290914, 0.23142031, 0.07168565, 0.24931578],\n",
       "       [0.22825516, 0.03840557, 0.82513998, 0.72445367],\n",
       "       [0.56889484, 0.10302067, 0.28436576, 0.14379871],\n",
       "       [0.2672973 , 0.13313645, 0.20358697, 0.6873121 ],\n",
       "       [0.75681618, 0.881124  , 0.67687071, 0.78863654],\n",
       "       [0.04846364, 0.57891306, 0.34108384, 0.87535625],\n",
       "       [0.58838432, 0.40945335, 0.63903342, 0.96213385],\n",
       "       [0.33697042, 0.90439679, 0.46711321, 0.18243333],\n",
       "       [0.09370645, 0.87747975, 0.84709883, 0.29128023],\n",
       "       [0.95030383, 0.04226906, 0.41648072, 0.99207526],\n",
       "       [0.85822124, 0.50097605, 0.55710393, 0.43035934],\n",
       "       [0.68916174, 0.37578876, 0.36642957, 0.78067236],\n",
       "       [0.3021248 , 0.07312034, 0.70489031, 0.7441119 ],\n",
       "       [0.94827798, 0.91551818, 0.6497667 , 0.02440889],\n",
       "       [0.8253314 , 0.84829085, 0.50174523, 0.62749412],\n",
       "       [0.86411402, 0.96171533, 0.87065385, 0.25224248],\n",
       "       [0.2221981 , 0.14881011, 0.23171968, 0.27283714],\n",
       "       [0.50028116, 0.63983519, 0.63032334, 0.74166974],\n",
       "       [0.75277762, 0.32816138, 0.09095836, 0.73486527],\n",
       "       [0.05436915, 0.06081879, 0.10414034, 0.34360681],\n",
       "       [0.98077837, 0.01820539, 0.36990076, 0.61738407],\n",
       "       [0.39646736, 0.30698733, 0.012781  , 0.17549608],\n",
       "       [0.42509087, 0.22622611, 0.43894374, 0.83873844],\n",
       "       [0.47795733, 0.38020128, 0.8881325 , 0.94113128],\n",
       "       [0.0721605 , 0.31336513, 0.37310755, 0.02291702],\n",
       "       [0.58195508, 0.33754247, 0.9285284 , 0.22157438],\n",
       "       [0.86162433, 0.23126699, 0.40268882, 0.49163155],\n",
       "       [0.082204  , 0.68042571, 0.36901473, 0.61793594],\n",
       "       [0.62803168, 0.27735572, 0.69183093, 0.92112181]])"
      ]
     },
     "execution_count": 131,
     "metadata": {},
     "output_type": "execute_result"
    }
   ],
   "source": [
    "np.random.rand(100,4)"
   ]
  },
  {
   "cell_type": "code",
   "execution_count": 140,
   "id": "9517b5af",
   "metadata": {},
   "outputs": [
    {
     "data": {
      "text/plain": [
       "33"
      ]
     },
     "execution_count": 140,
     "metadata": {},
     "output_type": "execute_result"
    }
   ],
   "source": [
    "np.random.randint(1,50)"
   ]
  },
  {
   "cell_type": "code",
   "execution_count": 141,
   "id": "63a79aba",
   "metadata": {},
   "outputs": [
    {
     "data": {
      "text/plain": [
       "array([[ 0.17181821,  0.82757938,  0.16288037,  0.90099218, -0.65510415],\n",
       "       [-1.2281642 ,  0.109257  , -2.11770842, -0.6564711 ,  1.29750912],\n",
       "       [ 0.8837862 ,  0.22139379, -0.41852733, -0.24892671,  0.50482202],\n",
       "       [ 1.95505451, -0.14470197, -1.09200614,  0.16792648, -1.405102  ]])"
      ]
     },
     "execution_count": 141,
     "metadata": {},
     "output_type": "execute_result"
    }
   ],
   "source": [
    "np.random.randn(4,5)"
   ]
  },
  {
   "cell_type": "code",
   "execution_count": 142,
   "id": "85e2a273",
   "metadata": {},
   "outputs": [
    {
     "data": {
      "text/html": [
       "<div>\n",
       "<style scoped>\n",
       "    .dataframe tbody tr th:only-of-type {\n",
       "        vertical-align: middle;\n",
       "    }\n",
       "\n",
       "    .dataframe tbody tr th {\n",
       "        vertical-align: top;\n",
       "    }\n",
       "\n",
       "    .dataframe thead th {\n",
       "        text-align: right;\n",
       "    }\n",
       "</style>\n",
       "<table border=\"1\" class=\"dataframe\">\n",
       "  <thead>\n",
       "    <tr style=\"text-align: right;\">\n",
       "      <th></th>\n",
       "      <th>0</th>\n",
       "      <th>1</th>\n",
       "      <th>2</th>\n",
       "      <th>3</th>\n",
       "      <th>4</th>\n",
       "    </tr>\n",
       "  </thead>\n",
       "  <tbody>\n",
       "    <tr>\n",
       "      <th>0</th>\n",
       "      <td>-0.233641</td>\n",
       "      <td>0.983339</td>\n",
       "      <td>3.016378</td>\n",
       "      <td>0.493224</td>\n",
       "      <td>0.234653</td>\n",
       "    </tr>\n",
       "    <tr>\n",
       "      <th>1</th>\n",
       "      <td>0.565510</td>\n",
       "      <td>-2.035354</td>\n",
       "      <td>-0.083317</td>\n",
       "      <td>-0.837748</td>\n",
       "      <td>0.410470</td>\n",
       "    </tr>\n",
       "    <tr>\n",
       "      <th>2</th>\n",
       "      <td>-1.751349</td>\n",
       "      <td>-0.400066</td>\n",
       "      <td>1.506847</td>\n",
       "      <td>-0.645522</td>\n",
       "      <td>-0.231020</td>\n",
       "    </tr>\n",
       "    <tr>\n",
       "      <th>3</th>\n",
       "      <td>-0.414534</td>\n",
       "      <td>-1.045384</td>\n",
       "      <td>0.136348</td>\n",
       "      <td>0.380826</td>\n",
       "      <td>0.958913</td>\n",
       "    </tr>\n",
       "  </tbody>\n",
       "</table>\n",
       "</div>"
      ],
      "text/plain": [
       "          0         1         2         3         4\n",
       "0 -0.233641  0.983339  3.016378  0.493224  0.234653\n",
       "1  0.565510 -2.035354 -0.083317 -0.837748  0.410470\n",
       "2 -1.751349 -0.400066  1.506847 -0.645522 -0.231020\n",
       "3 -0.414534 -1.045384  0.136348  0.380826  0.958913"
      ]
     },
     "execution_count": 142,
     "metadata": {},
     "output_type": "execute_result"
    }
   ],
   "source": [
    "pd.DataFrame(np.random.randn(4,5))"
   ]
  },
  {
   "cell_type": "code",
   "execution_count": 1,
   "id": "c65ec4b8",
   "metadata": {},
   "outputs": [
    {
     "data": {
      "text/plain": [
       "[4, 5, 6, 7, 8, 9]"
      ]
     },
     "execution_count": 1,
     "metadata": {},
     "output_type": "execute_result"
    }
   ],
   "source": [
    "list(range(4,10))"
   ]
  },
  {
   "cell_type": "code",
   "execution_count": 2,
   "id": "cfd8fc0b",
   "metadata": {},
   "outputs": [
    {
     "data": {
      "text/plain": [
       "[4, 6, 8]"
      ]
     },
     "execution_count": 2,
     "metadata": {},
     "output_type": "execute_result"
    }
   ],
   "source": [
    "list(range(4,10,2))"
   ]
  },
  {
   "cell_type": "code",
   "execution_count": 8,
   "id": "3c570562",
   "metadata": {},
   "outputs": [
    {
     "data": {
      "text/plain": [
       "array([4, 5, 6, 7, 8, 9])"
      ]
     },
     "execution_count": 8,
     "metadata": {},
     "output_type": "execute_result"
    }
   ],
   "source": [
    "np.arange(4,10)"
   ]
  },
  {
   "cell_type": "code",
   "execution_count": 11,
   "id": "213e68a6",
   "metadata": {},
   "outputs": [
    {
     "data": {
      "text/plain": [
       "array([-1.00000000e+00, -8.00000000e-01, -6.00000000e-01, -4.00000000e-01,\n",
       "       -2.00000000e-01, -2.22044605e-16,  2.00000000e-01,  4.00000000e-01,\n",
       "        6.00000000e-01,  8.00000000e-01,  1.00000000e+00,  1.20000000e+00,\n",
       "        1.40000000e+00,  1.60000000e+00,  1.80000000e+00,  2.00000000e+00,\n",
       "        2.20000000e+00,  2.40000000e+00,  2.60000000e+00,  2.80000000e+00,\n",
       "        3.00000000e+00,  3.20000000e+00,  3.40000000e+00,  3.60000000e+00,\n",
       "        3.80000000e+00,  4.00000000e+00,  4.20000000e+00,  4.40000000e+00,\n",
       "        4.60000000e+00,  4.80000000e+00,  5.00000000e+00,  5.20000000e+00,\n",
       "        5.40000000e+00,  5.60000000e+00,  5.80000000e+00,  6.00000000e+00,\n",
       "        6.20000000e+00,  6.40000000e+00,  6.60000000e+00,  6.80000000e+00,\n",
       "        7.00000000e+00,  7.20000000e+00,  7.40000000e+00,  7.60000000e+00,\n",
       "        7.80000000e+00,  8.00000000e+00,  8.20000000e+00,  8.40000000e+00,\n",
       "        8.60000000e+00,  8.80000000e+00,  9.00000000e+00,  9.20000000e+00,\n",
       "        9.40000000e+00,  9.60000000e+00,  9.80000000e+00])"
      ]
     },
     "execution_count": 11,
     "metadata": {},
     "output_type": "execute_result"
    }
   ],
   "source": [
    "np.arange(-1,10,.2)"
   ]
  },
  {
   "cell_type": "code",
   "execution_count": 13,
   "id": "665cd726",
   "metadata": {},
   "outputs": [
    {
     "data": {
      "text/plain": [
       "array([-10,  -9,  -8,  -7,  -6,  -5,  -4,  -3,  -2,  -1,   0,   1,   2,\n",
       "         3,   4,   5,   6,   7,   8,   9])"
      ]
     },
     "execution_count": 13,
     "metadata": {},
     "output_type": "execute_result"
    }
   ],
   "source": [
    "np.arange(-10,10)"
   ]
  },
  {
   "cell_type": "code",
   "execution_count": 14,
   "id": "a5a2e21c",
   "metadata": {},
   "outputs": [],
   "source": [
    "arr = np.random.rand(4,5)"
   ]
  },
  {
   "cell_type": "code",
   "execution_count": 15,
   "id": "69194a65",
   "metadata": {},
   "outputs": [
    {
     "data": {
      "text/plain": [
       "array([[0.43559475, 0.71997353, 0.32506324, 0.27053003, 0.62726717],\n",
       "       [0.54727424, 0.87659526, 0.9158668 , 0.18056211, 0.88316402],\n",
       "       [0.43180625, 0.33997354, 0.6649005 , 0.72035383, 0.01256941],\n",
       "       [0.10202257, 0.54766734, 0.05356013, 0.44002526, 0.26350015]])"
      ]
     },
     "execution_count": 15,
     "metadata": {},
     "output_type": "execute_result"
    }
   ],
   "source": [
    "arr"
   ]
  },
  {
   "cell_type": "code",
   "execution_count": 19,
   "id": "7d50a0d5",
   "metadata": {},
   "outputs": [
    {
     "data": {
      "text/plain": [
       "array([[False,  True, False, False,  True],\n",
       "       [ True,  True,  True, False,  True],\n",
       "       [False, False,  True,  True, False],\n",
       "       [False,  True, False, False, False]])"
      ]
     },
     "execution_count": 19,
     "metadata": {},
     "output_type": "execute_result"
    }
   ],
   "source": [
    "arr > .5"
   ]
  },
  {
   "cell_type": "code",
   "execution_count": 20,
   "id": "e9d11844",
   "metadata": {},
   "outputs": [
    {
     "data": {
      "text/plain": [
       "array([0.71997353, 0.62726717, 0.54727424, 0.87659526, 0.9158668 ,\n",
       "       0.88316402, 0.6649005 , 0.72035383, 0.54766734])"
      ]
     },
     "execution_count": 20,
     "metadata": {},
     "output_type": "execute_result"
    }
   ],
   "source": [
    " arr[arr > .5]"
   ]
  },
  {
   "cell_type": "code",
   "execution_count": 21,
   "id": "d8422ac3",
   "metadata": {},
   "outputs": [
    {
     "data": {
      "text/plain": [
       "array([[0.43559475, 0.71997353, 0.32506324, 0.27053003, 0.62726717],\n",
       "       [0.54727424, 0.87659526, 0.9158668 , 0.18056211, 0.88316402],\n",
       "       [0.43180625, 0.33997354, 0.6649005 , 0.72035383, 0.01256941],\n",
       "       [0.10202257, 0.54766734, 0.05356013, 0.44002526, 0.26350015]])"
      ]
     },
     "execution_count": 21,
     "metadata": {},
     "output_type": "execute_result"
    }
   ],
   "source": [
    "arr"
   ]
  },
  {
   "cell_type": "code",
   "execution_count": 29,
   "id": "6113aa97",
   "metadata": {},
   "outputs": [
    {
     "data": {
      "text/plain": [
       "0.9158667951624168"
      ]
     },
     "execution_count": 29,
     "metadata": {},
     "output_type": "execute_result"
    }
   ],
   "source": [
    "arr[1,2]  "
   ]
  },
  {
   "cell_type": "code",
   "execution_count": 30,
   "id": "6b06b93a",
   "metadata": {},
   "outputs": [
    {
     "data": {
      "text/plain": [
       "0.6649004983507226"
      ]
     },
     "execution_count": 30,
     "metadata": {},
     "output_type": "execute_result"
    }
   ],
   "source": [
    "arr[2,2]\n"
   ]
  },
  {
   "cell_type": "code",
   "execution_count": 31,
   "id": "cbece5ed",
   "metadata": {},
   "outputs": [
    {
     "data": {
      "text/plain": [
       "array([[0.54727424, 0.87659526, 0.9158668 , 0.18056211, 0.88316402],\n",
       "       [0.43180625, 0.33997354, 0.6649005 , 0.72035383, 0.01256941]])"
      ]
     },
     "execution_count": 31,
     "metadata": {},
     "output_type": "execute_result"
    }
   ],
   "source": [
    "arr[[1,2]]"
   ]
  },
  {
   "cell_type": "code",
   "execution_count": 33,
   "id": "5cc19621",
   "metadata": {},
   "outputs": [
    {
     "data": {
      "text/plain": [
       "array([0.9158668, 0.6649005])"
      ]
     },
     "execution_count": 33,
     "metadata": {},
     "output_type": "execute_result"
    }
   ],
   "source": [
    "arr[[1,2],[2,2]]"
   ]
  },
  {
   "cell_type": "code",
   "execution_count": 34,
   "id": "2c4e8545",
   "metadata": {},
   "outputs": [],
   "source": [
    "arr = np.random.rand(8,5)"
   ]
  },
  {
   "cell_type": "code",
   "execution_count": 35,
   "id": "afac103c",
   "metadata": {},
   "outputs": [
    {
     "data": {
      "text/plain": [
       "array([[0.48581661, 0.05489053, 0.07717233, 0.40327384, 0.48609519],\n",
       "       [0.6746138 , 0.48581914, 0.52578477, 0.82567463, 0.89916085],\n",
       "       [0.71821287, 0.66056105, 0.48648465, 0.03273505, 0.30830763],\n",
       "       [0.36749181, 0.81262267, 0.22834633, 0.85128785, 0.01957108],\n",
       "       [0.19707643, 0.82478629, 0.44067977, 0.57100951, 0.23844419],\n",
       "       [0.04909558, 0.89053111, 0.59482717, 0.56707327, 0.78347141],\n",
       "       [0.09818856, 0.3755947 , 0.13735094, 0.80088705, 0.79129656],\n",
       "       [0.62522359, 0.21909084, 0.26465392, 0.06000005, 0.80785933]])"
      ]
     },
     "execution_count": 35,
     "metadata": {},
     "output_type": "execute_result"
    }
   ],
   "source": [
    "arr"
   ]
  },
  {
   "cell_type": "code",
   "execution_count": 36,
   "id": "16d0c2a7",
   "metadata": {},
   "outputs": [
    {
     "data": {
      "text/plain": [
       "array([0.6746138 , 0.48581914, 0.52578477, 0.82567463, 0.89916085])"
      ]
     },
     "execution_count": 36,
     "metadata": {},
     "output_type": "execute_result"
    }
   ],
   "source": [
    "arr[1]"
   ]
  },
  {
   "cell_type": "code",
   "execution_count": 37,
   "id": "69e99635",
   "metadata": {},
   "outputs": [
    {
     "data": {
      "text/plain": [
       "0.8256746328537928"
      ]
     },
     "execution_count": 37,
     "metadata": {},
     "output_type": "execute_result"
    }
   ],
   "source": [
    "arr[1,3]"
   ]
  },
  {
   "cell_type": "code",
   "execution_count": 43,
   "id": "4601963d",
   "metadata": {},
   "outputs": [
    {
     "data": {
      "text/plain": [
       "array([[0.6746138 , 0.48581914, 0.52578477],\n",
       "       [0.71821287, 0.66056105, 0.48648465],\n",
       "       [0.36749181, 0.81262267, 0.22834633],\n",
       "       [0.19707643, 0.82478629, 0.44067977],\n",
       "       [0.04909558, 0.89053111, 0.59482717],\n",
       "       [0.09818856, 0.3755947 , 0.13735094],\n",
       "       [0.62522359, 0.21909084, 0.26465392]])"
      ]
     },
     "execution_count": 43,
     "metadata": {},
     "output_type": "execute_result"
    }
   ],
   "source": [
    "arr[1:8,[0,1,2]]"
   ]
  },
  {
   "cell_type": "code",
   "execution_count": 44,
   "id": "eafd5f26",
   "metadata": {},
   "outputs": [],
   "source": [
    "a2 = arr[1:8,[0,1,2]]"
   ]
  },
  {
   "cell_type": "code",
   "execution_count": 45,
   "id": "d6e32820",
   "metadata": {},
   "outputs": [
    {
     "data": {
      "text/plain": [
       "array([[0.6746138 , 0.48581914, 0.52578477],\n",
       "       [0.71821287, 0.66056105, 0.48648465],\n",
       "       [0.36749181, 0.81262267, 0.22834633],\n",
       "       [0.19707643, 0.82478629, 0.44067977],\n",
       "       [0.04909558, 0.89053111, 0.59482717],\n",
       "       [0.09818856, 0.3755947 , 0.13735094],\n",
       "       [0.62522359, 0.21909084, 0.26465392]])"
      ]
     },
     "execution_count": 45,
     "metadata": {},
     "output_type": "execute_result"
    }
   ],
   "source": [
    "a2"
   ]
  },
  {
   "cell_type": "code",
   "execution_count": 46,
   "id": "5d9e23f2",
   "metadata": {},
   "outputs": [
    {
     "data": {
      "text/plain": [
       "0.6746138019003869"
      ]
     },
     "execution_count": 46,
     "metadata": {},
     "output_type": "execute_result"
    }
   ],
   "source": [
    "a2[0][0]"
   ]
  },
  {
   "cell_type": "code",
   "execution_count": 51,
   "id": "028c1a1c",
   "metadata": {},
   "outputs": [],
   "source": [
    "a2[0][0] = 100"
   ]
  },
  {
   "cell_type": "code",
   "execution_count": 52,
   "id": "f5338864",
   "metadata": {},
   "outputs": [
    {
     "data": {
      "text/plain": [
       "array([[1.00000000e+02, 4.85819136e-01, 5.25784775e-01],\n",
       "       [7.18212866e-01, 6.60561046e-01, 4.86484653e-01],\n",
       "       [3.67491809e-01, 8.12622669e-01, 2.28346327e-01],\n",
       "       [1.97076433e-01, 8.24786289e-01, 4.40679770e-01],\n",
       "       [4.90955798e-02, 8.90531110e-01, 5.94827171e-01],\n",
       "       [9.81885629e-02, 3.75594699e-01, 1.37350940e-01],\n",
       "       [6.25223593e-01, 2.19090836e-01, 2.64653917e-01]])"
      ]
     },
     "execution_count": 52,
     "metadata": {},
     "output_type": "execute_result"
    }
   ],
   "source": [
    "a2"
   ]
  },
  {
   "cell_type": "code",
   "execution_count": 57,
   "id": "34a526cc",
   "metadata": {},
   "outputs": [],
   "source": [
    "a = np.array([[1,2],[3,4]])"
   ]
  },
  {
   "cell_type": "code",
   "execution_count": 58,
   "id": "4782e179",
   "metadata": {},
   "outputs": [],
   "source": [
    "b = np.array([[2,3],[4,5]])"
   ]
  },
  {
   "cell_type": "code",
   "execution_count": 59,
   "id": "8e56091e",
   "metadata": {},
   "outputs": [
    {
     "data": {
      "text/plain": [
       "array([[1, 2],\n",
       "       [3, 4]])"
      ]
     },
     "execution_count": 59,
     "metadata": {},
     "output_type": "execute_result"
    }
   ],
   "source": [
    "a"
   ]
  },
  {
   "cell_type": "code",
   "execution_count": 60,
   "id": "47613b17",
   "metadata": {},
   "outputs": [
    {
     "data": {
      "text/plain": [
       "array([[2, 3],\n",
       "       [4, 5]])"
      ]
     },
     "execution_count": 60,
     "metadata": {},
     "output_type": "execute_result"
    }
   ],
   "source": [
    "b"
   ]
  },
  {
   "cell_type": "code",
   "execution_count": 61,
   "id": "c4bab4b6",
   "metadata": {},
   "outputs": [
    {
     "data": {
      "text/plain": [
       "array([[ 2,  6],\n",
       "       [12, 20]])"
      ]
     },
     "execution_count": 61,
     "metadata": {},
     "output_type": "execute_result"
    }
   ],
   "source": [
    "a * b"
   ]
  },
  {
   "cell_type": "code",
   "execution_count": 62,
   "id": "0d4bb249",
   "metadata": {},
   "outputs": [
    {
     "data": {
      "text/plain": [
       "array([[10, 13],\n",
       "       [22, 29]])"
      ]
     },
     "execution_count": 62,
     "metadata": {},
     "output_type": "execute_result"
    }
   ],
   "source": [
    "a@b"
   ]
  },
  {
   "cell_type": "code",
   "execution_count": 63,
   "id": "bd2cf5ad",
   "metadata": {},
   "outputs": [
    {
     "ename": "SyntaxError",
     "evalue": "unexpected character after line continuation character (282590415.py, line 1)",
     "output_type": "error",
     "traceback": [
      "\u001b[1;36m  File \u001b[1;32m\"C:\\Users\\gsingh\\AppData\\Local\\Temp\\ipykernel_13332\\282590415.py\"\u001b[1;36m, line \u001b[1;32m1\u001b[0m\n\u001b[1;33m    m\\0\u001b[0m\n\u001b[1;37m      ^\u001b[0m\n\u001b[1;31mSyntaxError\u001b[0m\u001b[1;31m:\u001b[0m unexpected character after line continuation character\n"
     ]
    }
   ],
   "source": [
    "m\\0"
   ]
  },
  {
   "cell_type": "code",
   "execution_count": 67,
   "id": "f9d6e601",
   "metadata": {},
   "outputs": [],
   "source": [
    "m = a@b"
   ]
  },
  {
   "cell_type": "code",
   "execution_count": 68,
   "id": "6dab9f23",
   "metadata": {},
   "outputs": [
    {
     "data": {
      "text/plain": [
       "array([[10, 13],\n",
       "       [22, 29]])"
      ]
     },
     "execution_count": 68,
     "metadata": {},
     "output_type": "execute_result"
    }
   ],
   "source": [
    "m"
   ]
  },
  {
   "cell_type": "code",
   "execution_count": 69,
   "id": "888e9cf8",
   "metadata": {},
   "outputs": [
    {
     "name": "stderr",
     "output_type": "stream",
     "text": [
      "C:\\Users\\gsingh\\AppData\\Local\\Temp\\ipykernel_13332\\3791875896.py:1: RuntimeWarning: divide by zero encountered in true_divide\n",
      "  m/0\n"
     ]
    },
    {
     "data": {
      "text/plain": [
       "array([[inf, inf],\n",
       "       [inf, inf]])"
      ]
     },
     "execution_count": 69,
     "metadata": {},
     "output_type": "execute_result"
    }
   ],
   "source": [
    "m/0"
   ]
  },
  {
   "cell_type": "code",
   "execution_count": null,
   "id": "41830ae9",
   "metadata": {},
   "outputs": [],
   "source": []
  }
 ],
 "metadata": {
  "kernelspec": {
   "display_name": "Python 3 (ipykernel)",
   "language": "python",
   "name": "python3"
  },
  "language_info": {
   "codemirror_mode": {
    "name": "ipython",
    "version": 3
   },
   "file_extension": ".py",
   "mimetype": "text/x-python",
   "name": "python",
   "nbconvert_exporter": "python",
   "pygments_lexer": "ipython3",
   "version": "3.9.13"
  }
 },
 "nbformat": 4,
 "nbformat_minor": 5
}
